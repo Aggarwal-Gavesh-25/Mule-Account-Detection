{
 "cells": [
  {
   "cell_type": "code",
   "execution_count": 1,
   "metadata": {},
   "outputs": [],
   "source": [
    "# Import necessary libraries\n",
    "import matplotlib.pyplot as plt\n",
    "import pandas as pd\n",
    "import numpy as np\n",
    "import xgboost as xgb\n",
    "from sklearn.metrics import accuracy_score, roc_curve, roc_auc_score\n",
    "from sklearn.preprocessing import OneHotEncoder, StandardScaler\n",
    "from sklearn.ensemble import RandomForestClassifier\n",
    "from sklearn.linear_model import LogisticRegression\n",
    "from sklearn.model_selection import train_test_split\n",
    "import tensorflow as tf\n",
    "from tensorflow import keras\n",
    "from tensorflow.keras import backend as K\n",
    "from aequitas.group import Group\n",
    "import joblib\n",
    "from pycaret.classification import save_model, create_model\n",
    "from pycaret.classification import load_model\n"
   ]
  },
  {
   "cell_type": "markdown",
   "metadata": {},
   "source": [
    "<a id=\"3.3\"></a>\n",
    "## <b><span style='color:SteelBlue'>Note:</span></b> \n",
    "\n",
    "- You will find paths of my device. Please change it to yours.\n",
    "\n",
    "Example: <span style='color:red'>/Users/gavesh_aggarwal/Desktop</span>/Mule_Account_Detection/32 Column Dataset/archive/Base.csv\n",
    "\n",
    "- Run the cells based on your requirements. Check out GitHub Readme for details."
   ]
  },
  {
   "attachments": {},
   "cell_type": "markdown",
   "metadata": {},
   "source": [
    "<a id=\"3.3\"></a>\n",
    "## <b><span style='color:SteelBlue'>Training:</span></b> 0-5 months\n",
    "\n",
    "The dataset has a column 'month'. Each account number has a month assigned to it: [0,7]. \n",
    "\n",
    "I took the account numbers with the months 0-5 for training and the account numbers with the months 6-7 for testing."
   ]
  },
  {
   "cell_type": "code",
   "execution_count": 2,
   "metadata": {},
   "outputs": [
    {
     "name": "stdout",
     "output_type": "stream",
     "text": [
      "Shape of the dataset: (1000000, 33)\n"
     ]
    },
    {
     "data": {
      "text/html": [
       "<div>\n",
       "<style scoped>\n",
       "    .dataframe tbody tr th:only-of-type {\n",
       "        vertical-align: middle;\n",
       "    }\n",
       "\n",
       "    .dataframe tbody tr th {\n",
       "        vertical-align: top;\n",
       "    }\n",
       "\n",
       "    .dataframe thead th {\n",
       "        text-align: right;\n",
       "    }\n",
       "</style>\n",
       "<table border=\"1\" class=\"dataframe\">\n",
       "  <thead>\n",
       "    <tr style=\"text-align: right;\">\n",
       "      <th></th>\n",
       "      <th>Account_Number</th>\n",
       "      <th>fraud_bool</th>\n",
       "      <th>income</th>\n",
       "      <th>name_email_similarity</th>\n",
       "      <th>prev_address_months_count</th>\n",
       "      <th>current_address_months_count</th>\n",
       "      <th>customer_age</th>\n",
       "      <th>days_since_request</th>\n",
       "      <th>intended_balcon_amount</th>\n",
       "      <th>payment_type</th>\n",
       "      <th>...</th>\n",
       "      <th>has_other_cards</th>\n",
       "      <th>proposed_credit_limit</th>\n",
       "      <th>foreign_request</th>\n",
       "      <th>source</th>\n",
       "      <th>session_length_in_minutes</th>\n",
       "      <th>device_os</th>\n",
       "      <th>keep_alive_session</th>\n",
       "      <th>device_distinct_emails_8w</th>\n",
       "      <th>device_fraud_count</th>\n",
       "      <th>month</th>\n",
       "    </tr>\n",
       "  </thead>\n",
       "  <tbody>\n",
       "    <tr>\n",
       "      <th>0</th>\n",
       "      <td>1</td>\n",
       "      <td>0</td>\n",
       "      <td>0.3</td>\n",
       "      <td>0.986506</td>\n",
       "      <td>-1</td>\n",
       "      <td>25</td>\n",
       "      <td>40</td>\n",
       "      <td>0.006735</td>\n",
       "      <td>102.453711</td>\n",
       "      <td>AA</td>\n",
       "      <td>...</td>\n",
       "      <td>0</td>\n",
       "      <td>1500</td>\n",
       "      <td>0</td>\n",
       "      <td>INTERNET</td>\n",
       "      <td>16.224843</td>\n",
       "      <td>linux</td>\n",
       "      <td>1</td>\n",
       "      <td>1</td>\n",
       "      <td>0</td>\n",
       "      <td>0</td>\n",
       "    </tr>\n",
       "    <tr>\n",
       "      <th>1</th>\n",
       "      <td>2</td>\n",
       "      <td>0</td>\n",
       "      <td>0.8</td>\n",
       "      <td>0.617426</td>\n",
       "      <td>-1</td>\n",
       "      <td>89</td>\n",
       "      <td>20</td>\n",
       "      <td>0.010095</td>\n",
       "      <td>-0.849551</td>\n",
       "      <td>AD</td>\n",
       "      <td>...</td>\n",
       "      <td>0</td>\n",
       "      <td>1500</td>\n",
       "      <td>0</td>\n",
       "      <td>INTERNET</td>\n",
       "      <td>3.363854</td>\n",
       "      <td>other</td>\n",
       "      <td>1</td>\n",
       "      <td>1</td>\n",
       "      <td>0</td>\n",
       "      <td>0</td>\n",
       "    </tr>\n",
       "    <tr>\n",
       "      <th>2</th>\n",
       "      <td>3</td>\n",
       "      <td>0</td>\n",
       "      <td>0.8</td>\n",
       "      <td>0.996707</td>\n",
       "      <td>9</td>\n",
       "      <td>14</td>\n",
       "      <td>40</td>\n",
       "      <td>0.012316</td>\n",
       "      <td>-1.490386</td>\n",
       "      <td>AB</td>\n",
       "      <td>...</td>\n",
       "      <td>0</td>\n",
       "      <td>200</td>\n",
       "      <td>0</td>\n",
       "      <td>INTERNET</td>\n",
       "      <td>22.730559</td>\n",
       "      <td>windows</td>\n",
       "      <td>0</td>\n",
       "      <td>1</td>\n",
       "      <td>0</td>\n",
       "      <td>0</td>\n",
       "    </tr>\n",
       "    <tr>\n",
       "      <th>3</th>\n",
       "      <td>4</td>\n",
       "      <td>0</td>\n",
       "      <td>0.6</td>\n",
       "      <td>0.475100</td>\n",
       "      <td>11</td>\n",
       "      <td>14</td>\n",
       "      <td>30</td>\n",
       "      <td>0.006991</td>\n",
       "      <td>-1.863101</td>\n",
       "      <td>AB</td>\n",
       "      <td>...</td>\n",
       "      <td>0</td>\n",
       "      <td>200</td>\n",
       "      <td>0</td>\n",
       "      <td>INTERNET</td>\n",
       "      <td>15.215816</td>\n",
       "      <td>linux</td>\n",
       "      <td>1</td>\n",
       "      <td>1</td>\n",
       "      <td>0</td>\n",
       "      <td>0</td>\n",
       "    </tr>\n",
       "    <tr>\n",
       "      <th>4</th>\n",
       "      <td>5</td>\n",
       "      <td>0</td>\n",
       "      <td>0.9</td>\n",
       "      <td>0.842307</td>\n",
       "      <td>-1</td>\n",
       "      <td>29</td>\n",
       "      <td>40</td>\n",
       "      <td>5.742626</td>\n",
       "      <td>47.152498</td>\n",
       "      <td>AA</td>\n",
       "      <td>...</td>\n",
       "      <td>0</td>\n",
       "      <td>200</td>\n",
       "      <td>0</td>\n",
       "      <td>INTERNET</td>\n",
       "      <td>3.743048</td>\n",
       "      <td>other</td>\n",
       "      <td>0</td>\n",
       "      <td>1</td>\n",
       "      <td>0</td>\n",
       "      <td>0</td>\n",
       "    </tr>\n",
       "  </tbody>\n",
       "</table>\n",
       "<p>5 rows × 33 columns</p>\n",
       "</div>"
      ],
      "text/plain": [
       "   Account_Number  fraud_bool  income  name_email_similarity  \\\n",
       "0               1           0     0.3               0.986506   \n",
       "1               2           0     0.8               0.617426   \n",
       "2               3           0     0.8               0.996707   \n",
       "3               4           0     0.6               0.475100   \n",
       "4               5           0     0.9               0.842307   \n",
       "\n",
       "   prev_address_months_count  current_address_months_count  customer_age  \\\n",
       "0                         -1                            25            40   \n",
       "1                         -1                            89            20   \n",
       "2                          9                            14            40   \n",
       "3                         11                            14            30   \n",
       "4                         -1                            29            40   \n",
       "\n",
       "   days_since_request  intended_balcon_amount payment_type  ...  \\\n",
       "0            0.006735              102.453711           AA  ...   \n",
       "1            0.010095               -0.849551           AD  ...   \n",
       "2            0.012316               -1.490386           AB  ...   \n",
       "3            0.006991               -1.863101           AB  ...   \n",
       "4            5.742626               47.152498           AA  ...   \n",
       "\n",
       "   has_other_cards  proposed_credit_limit  foreign_request    source  \\\n",
       "0                0                   1500                0  INTERNET   \n",
       "1                0                   1500                0  INTERNET   \n",
       "2                0                    200                0  INTERNET   \n",
       "3                0                    200                0  INTERNET   \n",
       "4                0                    200                0  INTERNET   \n",
       "\n",
       "   session_length_in_minutes  device_os keep_alive_session  \\\n",
       "0                  16.224843      linux                  1   \n",
       "1                   3.363854      other                  1   \n",
       "2                  22.730559    windows                  0   \n",
       "3                  15.215816      linux                  1   \n",
       "4                   3.743048      other                  0   \n",
       "\n",
       "   device_distinct_emails_8w  device_fraud_count month  \n",
       "0                          1                   0     0  \n",
       "1                          1                   0     0  \n",
       "2                          1                   0     0  \n",
       "3                          1                   0     0  \n",
       "4                          1                   0     0  \n",
       "\n",
       "[5 rows x 33 columns]"
      ]
     },
     "execution_count": 2,
     "metadata": {},
     "output_type": "execute_result"
    }
   ],
   "source": [
    "# Load the dataset\n",
    "df = pd.read_csv('/Users/gavesh_aggarwal/Desktop/Mule_Account_Detection/32 Column Dataset/archive/Base.csv')\n",
    "\n",
    "# Display the first few rows of the dataset and inspect columns\n",
    "print(\"Shape of the dataset:\", df.shape)\n",
    "df.head()\n"
   ]
  },
  {
   "cell_type": "code",
   "execution_count": 3,
   "metadata": {},
   "outputs": [
    {
     "name": "stdout",
     "output_type": "stream",
     "text": [
      "Fraud counts:\n",
      " fraud_bool\n",
      "0    988971\n",
      "1     11029\n",
      "Name: count, dtype: int64\n",
      "Shape of X_train: (794989, 30)\n",
      "Shape of X_test: (205011, 30)\n"
     ]
    }
   ],
   "source": [
    "# Remove unnecessary column 'device_fraud_count'\n",
    "df = df.drop(['device_fraud_count'], axis=1, errors='ignore')\n",
    "\n",
    "# Count the number of non-frauds and frauds\n",
    "fraud_counts = df['fraud_bool'].value_counts()\n",
    "print(\"Fraud counts:\\n\", fraud_counts)\n",
    "\n",
    "# Split data into features and target\n",
    "X = df.drop(['fraud_bool'], axis=1)\n",
    "y = df['fraud_bool']\n",
    "\n",
    "# Train test split by 'month': months 0-5 are train, 6-7 are test data\n",
    "X_train = X[X['month'] < 6].copy()\n",
    "X_test = X[X['month'] >= 6].copy()\n",
    "y_train = y[X['month'] < 6].copy()\n",
    "y_test = y[X['month'] >= 6].copy()\n",
    "\n",
    "# Drop 'month' column from train and test sets\n",
    "X_train.drop('month', axis=1, inplace=True)\n",
    "X_test.drop('month', axis=1, inplace=True)\n",
    "\n",
    "# Display shapes of train and test sets\n",
    "print(\"Shape of X_train:\", X_train.shape)\n",
    "print(\"Shape of X_test:\", X_test.shape)\n"
   ]
  },
  {
   "cell_type": "code",
   "execution_count": 4,
   "metadata": {},
   "outputs": [
    {
     "data": {
      "text/html": [
       "<div>\n",
       "<style scoped>\n",
       "    .dataframe tbody tr th:only-of-type {\n",
       "        vertical-align: middle;\n",
       "    }\n",
       "\n",
       "    .dataframe tbody tr th {\n",
       "        vertical-align: top;\n",
       "    }\n",
       "\n",
       "    .dataframe thead th {\n",
       "        text-align: right;\n",
       "    }\n",
       "</style>\n",
       "<table border=\"1\" class=\"dataframe\">\n",
       "  <thead>\n",
       "    <tr style=\"text-align: right;\">\n",
       "      <th></th>\n",
       "      <th>Account_Number</th>\n",
       "      <th>income</th>\n",
       "      <th>name_email_similarity</th>\n",
       "      <th>prev_address_months_count</th>\n",
       "      <th>current_address_months_count</th>\n",
       "      <th>customer_age</th>\n",
       "      <th>days_since_request</th>\n",
       "      <th>intended_balcon_amount</th>\n",
       "      <th>zip_count_4w</th>\n",
       "      <th>velocity_6h</th>\n",
       "      <th>...</th>\n",
       "      <th>16</th>\n",
       "      <th>17</th>\n",
       "      <th>18</th>\n",
       "      <th>19</th>\n",
       "      <th>20</th>\n",
       "      <th>21</th>\n",
       "      <th>22</th>\n",
       "      <th>23</th>\n",
       "      <th>24</th>\n",
       "      <th>25</th>\n",
       "    </tr>\n",
       "  </thead>\n",
       "  <tbody>\n",
       "    <tr>\n",
       "      <th>0</th>\n",
       "      <td>1</td>\n",
       "      <td>0.3</td>\n",
       "      <td>0.986506</td>\n",
       "      <td>-1</td>\n",
       "      <td>25</td>\n",
       "      <td>40</td>\n",
       "      <td>0.006735</td>\n",
       "      <td>102.453711</td>\n",
       "      <td>1059</td>\n",
       "      <td>13096.03502</td>\n",
       "      <td>...</td>\n",
       "      <td>0.0</td>\n",
       "      <td>0.0</td>\n",
       "      <td>0.0</td>\n",
       "      <td>1.0</td>\n",
       "      <td>0.0</td>\n",
       "      <td>1.0</td>\n",
       "      <td>0.0</td>\n",
       "      <td>0.0</td>\n",
       "      <td>0.0</td>\n",
       "      <td>0.0</td>\n",
       "    </tr>\n",
       "  </tbody>\n",
       "</table>\n",
       "<p>1 rows × 51 columns</p>\n",
       "</div>"
      ],
      "text/plain": [
       "   Account_Number  income  name_email_similarity  prev_address_months_count  \\\n",
       "0               1     0.3               0.986506                         -1   \n",
       "\n",
       "   current_address_months_count  customer_age  days_since_request  \\\n",
       "0                            25            40            0.006735   \n",
       "\n",
       "   intended_balcon_amount  zip_count_4w  velocity_6h  ...   16   17   18   19  \\\n",
       "0              102.453711          1059  13096.03502  ...  0.0  0.0  0.0  1.0   \n",
       "\n",
       "    20   21   22   23   24   25  \n",
       "0  0.0  1.0  0.0  0.0  0.0  0.0  \n",
       "\n",
       "[1 rows x 51 columns]"
      ]
     },
     "execution_count": 4,
     "metadata": {},
     "output_type": "execute_result"
    }
   ],
   "source": [
    "# Identify categorical columns\n",
    "object_cols = X_train.select_dtypes(include='object').columns\n",
    "\n",
    "# Initialize OneHotEncoder\n",
    "ohe = OneHotEncoder(sparse_output=False, handle_unknown='ignore')\n",
    "\n",
    "# One-hot encode categorical columns\n",
    "ohe_cols_train = pd.DataFrame(ohe.fit_transform(X_train[object_cols]), index=X_train.index)\n",
    "ohe_cols_test = pd.DataFrame(ohe.transform(X_test[object_cols]), index=X_test.index)\n",
    "\n",
    "# Drop original categorical columns from train and test sets\n",
    "X_train = pd.concat([X_train.drop(object_cols, axis=1), ohe_cols_train], axis=1)\n",
    "X_test = pd.concat([X_test.drop(object_cols, axis=1), ohe_cols_test], axis=1)\n",
    "\n",
    "# Ensure all column names are strings\n",
    "X_train.columns = X_train.columns.astype(str)\n",
    "X_test.columns = X_test.columns.astype(str)\n",
    "\n",
    "# Display first row of transformed data\n",
    "X_train.head(1)\n"
   ]
  },
  {
   "cell_type": "code",
   "execution_count": 5,
   "metadata": {},
   "outputs": [
    {
     "data": {
      "text/plain": [
       "array([[-1.73204863, -0.84791304,  1.67617685, -0.39549725, -0.70201773,\n",
       "         0.5239276 , -0.19688014,  4.5784764 , -0.60087354,  2.30536194,\n",
       "         2.01256248,  2.14674366, -0.39856874, -0.96709549,  0.50301888,\n",
       "         0.91934443, -0.82474973,  0.36024342, -0.15820651, -0.53763899,\n",
       "         1.9527687 , -0.16335588,  1.03915893,  0.87017251, -0.10906927,\n",
       "         1.67488258, -0.7540708 , -0.57702443, -0.37728253, -0.01766498,\n",
       "        -1.59933029,  2.42610853, -0.2022697 , -0.16872344, -0.15282242,\n",
       "        -0.21851234, -0.02163678, -0.44168721, -0.5886666 ,  1.27807239,\n",
       "        -0.15201452, -0.46073857, -0.04136572, -0.01671308,  0.08525789,\n",
       "        -0.08525789,  1.40353947, -0.23915926, -0.70796884, -0.60482253,\n",
       "        -0.08680847]])"
      ]
     },
     "execution_count": 5,
     "metadata": {},
     "output_type": "execute_result"
    }
   ],
   "source": [
    "# Initialize StandardScaler\n",
    "scaler = StandardScaler()\n",
    "\n",
    "# Scale numerical features\n",
    "X_train = scaler.fit_transform(X_train)\n",
    "X_test = scaler.transform(X_test)\n",
    "\n",
    "# Display scaled data\n",
    "X_train[:1]\n"
   ]
  },
  {
   "attachments": {},
   "cell_type": "markdown",
   "metadata": {},
   "source": [
    "<a id=\"3.3\"></a>\n",
    "## <b><span style='color:SteelBlue'>Logistic Regression</span></b>"
   ]
  },
  {
   "cell_type": "code",
   "execution_count": 6,
   "metadata": {},
   "outputs": [
    {
     "name": "stdout",
     "output_type": "stream",
     "text": [
      "Logistic Regression AUC: 0.8781518953728878\n"
     ]
    },
    {
     "data": {
      "image/png": "[encoded data removed]",
      "text/plain": [
       "<Figure size 800x600 with 1 Axes>"
      ]
     },
     "metadata": {},
     "output_type": "display_data"
    },
    {
     "data": {
      "text/plain": [
       "['/Users/gavesh_aggarwal/Desktop/Mule_Account_Detection/32 Column Dataset/scripts/baselinemodels-roc/2. MODELS_BASE_0-5_MONTHS/lr_model.joblib']"
      ]
     },
     "execution_count": 6,
     "metadata": {},
     "output_type": "execute_result"
    }
   ],
   "source": [
    "# Train Logistic Regression model\n",
    "lr_model = LogisticRegression(class_weight='balanced')\n",
    "lr_model.fit(X_train, y_train)\n",
    "\n",
    "# Predict probabilities for test set\n",
    "lr_predictions = lr_model.predict_proba(X_test)[:, 1]\n",
    "\n",
    "# Evaluate model performance\n",
    "lr_auc = roc_auc_score(y_test, lr_predictions)\n",
    "print(\"Logistic Regression AUC:\", lr_auc)\n",
    "\n",
    "# Plot ROC curve\n",
    "fpr_lr, tpr_lr, _ = roc_curve(y_test, lr_predictions)\n",
    "plt.figure(figsize=(8, 6))\n",
    "plt.plot(fpr_lr, tpr_lr, label='Logistic Regression (AUC = {:.2f})'.format(lr_auc))\n",
    "plt.plot([0, 1], [0, 1], 'k--')\n",
    "plt.xlabel('False Positive Rate')\n",
    "plt.ylabel('True Positive Rate')\n",
    "plt.title('ROC Curve - Logistic Regression')\n",
    "plt.legend(loc='lower right')\n",
    "plt.grid(True)\n",
    "plt.show()\n",
    "\n",
    "# Saving the model\n",
    "joblib.dump(lr_model, '/Users/gavesh_aggarwal/Desktop/Mule_Account_Detection/32 Column Dataset/scripts/baselinemodels-roc/2. MODELS_BASE_0-5_MONTHS/lr_model.joblib')"
   ]
  },
  {
   "attachments": {},
   "cell_type": "markdown",
   "metadata": {},
   "source": [
    "<a id=\"3.3\"></a>\n",
    "## <b><span style='color:SteelBlue'>XGBoost</span></b>"
   ]
  },
  {
   "cell_type": "code",
   "execution_count": 7,
   "metadata": {},
   "outputs": [
    {
     "name": "stdout",
     "output_type": "stream",
     "text": [
      "XGBoost AUC: 0.8645479534427595\n"
     ]
    },
    {
     "data": {
      "image/png": "[encoded data removed]",
      "text/plain": [
       "<Figure size 800x600 with 1 Axes>"
      ]
     },
     "metadata": {},
     "output_type": "display_data"
    },
    {
     "data": {
      "text/plain": [
       "['/Users/gavesh_aggarwal/Desktop/Mule_Account_Detection/32 Column Dataset/scripts/baselinemodels-roc/2. MODELS_BASE_0-5_MONTHS/xgb_model.joblib']"
      ]
     },
     "execution_count": 7,
     "metadata": {},
     "output_type": "execute_result"
    }
   ],
   "source": [
    "# Train XGBoost model\n",
    "xgb_model = xgb.XGBClassifier(tree_method='hist', scale_pos_weight=89.67005)\n",
    "xgb_model.fit(X_train, y_train)\n",
    "\n",
    "# Predict probabilities for test set\n",
    "xgb_predictions = xgb_model.predict_proba(X_test)[:, 1]\n",
    "\n",
    "# Evaluate model performance\n",
    "xgb_auc = roc_auc_score(y_test, xgb_predictions)\n",
    "print(\"XGBoost AUC:\", xgb_auc)\n",
    "\n",
    "# Plot ROC curve\n",
    "fpr_xgb, tpr_xgb, _ = roc_curve(y_test, xgb_predictions)\n",
    "plt.figure(figsize=(8, 6))\n",
    "plt.plot(fpr_xgb, tpr_xgb, label='XGBoost (AUC = {:.2f})'.format(xgb_auc))\n",
    "plt.plot([0, 1], [0, 1], 'k--')\n",
    "plt.xlabel('False Positive Rate')\n",
    "plt.ylabel('True Positive Rate')\n",
    "plt.title('ROC Curve - XGBoost')\n",
    "plt.legend(loc='lower right')\n",
    "plt.grid(True)\n",
    "plt.show()\n",
    "\n",
    "# Saving the model\n",
    "joblib.dump(lr_model, '/Users/gavesh_aggarwal/Desktop/Mule_Account_Detection/32 Column Dataset/scripts/baselinemodels-roc/2. MODELS_BASE_0-5_MONTHS/xgb_model.joblib')"
   ]
  },
  {
   "attachments": {},
   "cell_type": "markdown",
   "metadata": {},
   "source": [
    "<a id=\"3.3\"></a>\n",
    "## <b><span style='color:SteelBlue'>Random Forest</span></b>"
   ]
  },
  {
   "cell_type": "code",
   "execution_count": 9,
   "metadata": {},
   "outputs": [
    {
     "name": "stdout",
     "output_type": "stream",
     "text": [
      "Random Forest AUC: 0.7721898128110677\n"
     ]
    },
    {
     "data": {
      "image/png": "[encoded data removed]",
      "text/plain": [
       "<Figure size 800x600 with 1 Axes>"
      ]
     },
     "metadata": {},
     "output_type": "display_data"
    },
    {
     "data": {
      "text/plain": [
       "['/Users/gavesh_aggarwal/Desktop/Mule_Account_Detection/32 Column Dataset/scripts/baselinemodels-roc/2. MODELS_BASE_0-5_MONTHS/rf_model.joblib']"
      ]
     },
     "execution_count": 9,
     "metadata": {},
     "output_type": "execute_result"
    }
   ],
   "source": [
    "# Train Random Forest model\n",
    "rf_model = RandomForestClassifier(class_weight='balanced')\n",
    "rf_model.fit(X_train, y_train)\n",
    "\n",
    "# Predict probabilities for test set\n",
    "rf_predictions = rf_model.predict_proba(X_test)[:, 1]\n",
    "\n",
    "# Evaluate model performance\n",
    "rf_auc = roc_auc_score(y_test, rf_predictions)\n",
    "print(\"Random Forest AUC:\", rf_auc)\n",
    "\n",
    "# Plot ROC curve\n",
    "fpr_rf, tpr_rf, _ = roc_curve(y_test, rf_predictions)\n",
    "plt.figure(figsize=(8, 6))\n",
    "plt.plot(fpr_rf, tpr_rf, label='Random Forest (AUC = {:.2f})'.format(rf_auc))\n",
    "plt.plot([0, 1], [0, 1], 'k--')\n",
    "plt.xlabel('False Positive Rate')\n",
    "plt.ylabel('True Positive Rate')\n",
    "plt.title('ROC Curve - Random Forest')\n",
    "plt.legend(loc='lower right')\n",
    "plt.grid(True)\n",
    "plt.show()\n",
    "\n",
    "# Saving the model\n",
    "joblib.dump(lr_model, '/Users/gavesh_aggarwal/Desktop/Mule_Account_Detection/32 Column Dataset/scripts/baselinemodels-roc/2. MODELS_BASE_0-5_MONTHS/rf_model.joblib')"
   ]
  },
  {
   "attachments": {},
   "cell_type": "markdown",
   "metadata": {},
   "source": [
    "<a id=\"3.3\"></a>\n",
    "## <b><span style='color:SteelBlue'>Note:</span></b> \n",
    "After you have trained and saved the models once, you can load them from next time."
   ]
  },
  {
   "cell_type": "code",
   "execution_count": null,
   "metadata": {},
   "outputs": [],
   "source": [
    "# Loading\n",
    "\n",
    "# BASE\n",
    "#lr_model = joblib.load('/Users/gavesh_aggarwal/Desktop/Mule_Account_Detection/32 Column Dataset/scripts/baselinemodels-roc/2. MODELS_BASE_0-5_MONTHS/lr_model.joblib')\n",
    "#xgb_model = joblib.load('/Users/gavesh_aggarwal/Desktop/Mule_Account_Detection/32 Column Dataset/scripts/baselinemodels-roc/2. MODELS_BASE_0-5_MONTHS/xgb_model.joblib')\n",
    "#rf_model = joblib.load('/Users/gavesh_aggarwal/Desktop/Mule_Account_Detection/32 Column Dataset/scripts/baselinemodels-roc/2. MODELS_BASE_0-5_MONTHS/rf_model.joblib')\n"
   ]
  },
  {
   "attachments": {},
   "cell_type": "markdown",
   "metadata": {},
   "source": [
    "<a id=\"3.3\"></a>\n",
    "## <b><span style='color:SteelBlue'>Testing:</span></b> 6-7 months"
   ]
  },
  {
   "attachments": {},
   "cell_type": "markdown",
   "metadata": {},
   "source": [
    "<a id=\"3.3\"></a>\n",
    "## <b><span style='color:yellow'>1st approach:</span></b> \n",
    "\n",
    "- Finding fraud accounts individually using each model.\n",
    "- Taking the common accounts."
   ]
  },
  {
   "cell_type": "code",
   "execution_count": 14,
   "metadata": {},
   "outputs": [
    {
     "name": "stdout",
     "output_type": "stream",
     "text": [
      "Number of Fraudulent Accounts: 34433\n",
      "Percentage of Fraudulent Accounts: 16.80%\n"
     ]
    }
   ],
   "source": [
    "'''\n",
    "predictions = lr_predictions\n",
    "\n",
    "# Create DataFrame for test set with predictions\n",
    "test_df = df[df[\"month\"] >= 6].copy()\n",
    "test_df['predicted_fraud'] = predictions\n",
    "\n",
    "# Identify fraudulent accounts (threshold > 0.5)\n",
    "fraudulent_accounts = test_df[test_df['predicted_fraud'] > 0.50]['Account_Number']\n",
    "\n",
    "# Save fraudulent account numbers to a .txt file (overwrite mode)\n",
    "with open('/Users/gavesh_aggarwal/Desktop/Mule_Account_Detection/32 Column Dataset/archive/lr_fraudulent_accounts.txt', 'w') as file:\n",
    "    fraudulent_accounts.to_csv(file, index=False, header=False)\n",
    "\n",
    "# Print number and percentage of fraudulent accounts\n",
    "num_fraud_accounts = len(fraudulent_accounts)\n",
    "total_accounts = len(test_df)\n",
    "percentage_fraudulent = (num_fraud_accounts / total_accounts) * 100\n",
    "\n",
    "print(\"Number of Fraudulent Accounts:\", num_fraud_accounts)\n",
    "print(\"Percentage of Fraudulent Accounts: {:.2f}%\".format(percentage_fraudulent))\n",
    "'''"
   ]
  },
  {
   "cell_type": "code",
   "execution_count": 15,
   "metadata": {},
   "outputs": [
    {
     "name": "stdout",
     "output_type": "stream",
     "text": [
      "Number of Fraudulent Accounts: 17325\n",
      "Percentage of Fraudulent Accounts: 8.45%\n"
     ]
    }
   ],
   "source": [
    "'''\n",
    "predictions = xgb_predictions\n",
    "\n",
    "# Create DataFrame for test set with predictions\n",
    "test_df = df[df[\"month\"] >= 6].copy()\n",
    "test_df['predicted_fraud'] = predictions\n",
    "\n",
    "# Identify fraudulent accounts (threshold > 0.5)\n",
    "fraudulent_accounts = test_df[test_df['predicted_fraud'] > 0.50]['Account_Number']\n",
    "\n",
    "# Save fraudulent account numbers to a .txt file (overwrite mode)\n",
    "with open('/Users/gavesh_aggarwal/Desktop/Mule_Account_Detection/32 Column Dataset/archive/xgb_fraudulent_accounts.txt', 'w') as file:\n",
    "    fraudulent_accounts.to_csv(file, index=False, header=False)\n",
    "\n",
    "# Print number and percentage of fraudulent accounts\n",
    "num_fraud_accounts = len(fraudulent_accounts)\n",
    "total_accounts = len(test_df)\n",
    "percentage_fraudulent = (num_fraud_accounts / total_accounts) * 100\n",
    "\n",
    "print(\"Number of Fraudulent Accounts:\", num_fraud_accounts)\n",
    "print(\"Percentage of Fraudulent Accounts: {:.2f}%\".format(percentage_fraudulent))\n",
    "'''"
   ]
  },
  {
   "cell_type": "code",
   "execution_count": 16,
   "metadata": {},
   "outputs": [
    {
     "name": "stdout",
     "output_type": "stream",
     "text": [
      "Number of Fraudulent Accounts: 0\n",
      "Percentage of Fraudulent Accounts: 0.00%\n"
     ]
    }
   ],
   "source": [
    "'''\n",
    "predictions = rf_predictions\n",
    "\n",
    "# Create DataFrame for test set with predictions\n",
    "test_df = df[df[\"month\"] >= 6].copy()\n",
    "test_df['predicted_fraud'] = predictions\n",
    "\n",
    "# Identify fraudulent accounts (threshold > 0.5)\n",
    "fraudulent_accounts = test_df[test_df['predicted_fraud'] > 0.50]['Account_Number']\n",
    "\n",
    "# Save fraudulent account numbers to a .txt file (overwrite mode)\n",
    "with open('/Users/gavesh_aggarwal/Desktop/Mule_Account_Detection/32 Column Dataset/archive/rf_fraudulent_accounts.txt', 'w') as file:\n",
    "    fraudulent_accounts.to_csv(file, index=False, header=False)\n",
    "\n",
    "# Print number and percentage of fraudulent accounts\n",
    "num_fraud_accounts = len(fraudulent_accounts)\n",
    "total_accounts = len(test_df)\n",
    "percentage_fraudulent = (num_fraud_accounts / total_accounts) * 100\n",
    "\n",
    "print(\"Number of Fraudulent Accounts:\", num_fraud_accounts)\n",
    "print(\"Percentage of Fraudulent Accounts: {:.2f}%\".format(percentage_fraudulent))\n",
    "'''\n"
   ]
  },
  {
   "cell_type": "code",
   "execution_count": 17,
   "metadata": {},
   "outputs": [
    {
     "name": "stdout",
     "output_type": "stream",
     "text": [
      "Number of common account numbers: 0\n"
     ]
    }
   ],
   "source": [
    "'''\n",
    "# Define file paths\n",
    "lr_path = '/Users/gavesh_aggarwal/Desktop/Mule_Account_Detection/32 Column Dataset/archive/lr_fraudulent_accounts.txt'\n",
    "xgb_path = '/Users/gavesh_aggarwal/Desktop/Mule_Account_Detection/32 Column Dataset/archive/xgb_fraudulent_accounts.txt'\n",
    "rf_path = '/Users/gavesh_aggarwal/Desktop/Mule_Account_Detection/32 Column Dataset/archive/rf_fraudulent_accounts.txt'\n",
    "output_path = '/Users/gavesh_aggarwal/Desktop/Mule_Account_Detection/32 Column Dataset/archive/fraudulent_accounts.txt'\n",
    "\n",
    "# Read account numbers from each file\n",
    "with open(lr_path, 'r') as lr_file:\n",
    "    lr_accounts = set(lr_file.read().splitlines())\n",
    "\n",
    "with open(xgb_path, 'r') as xgb_file:\n",
    "    xgb_accounts = set(xgb_file.read().splitlines())\n",
    "\n",
    "with open(rf_path, 'r') as rf_file:\n",
    "    rf_accounts = set(rf_file.read().splitlines())\n",
    "\n",
    "# Find common account numbers\n",
    "common_accounts = lr_accounts & xgb_accounts & rf_accounts\n",
    "\n",
    "# Write common account numbers to the output file\n",
    "with open(output_path, 'w') as output_file:\n",
    "    for account in common_accounts:\n",
    "        output_file.write(account + '\\n')\n",
    "\n",
    "print(f\"Number of common account numbers: {len(common_accounts)}\")\n",
    "'''\n"
   ]
  },
  {
   "attachments": {},
   "cell_type": "markdown",
   "metadata": {},
   "source": [
    "<a id=\"3.3\"></a>\n",
    "## <b><span style='color:yellow'>2nd approach:</span></b> \n",
    "\n",
    "- Finding fraud accounts using the average of all models."
   ]
  },
  {
   "cell_type": "code",
   "execution_count": 26,
   "metadata": {},
   "outputs": [
    {
     "name": "stdout",
     "output_type": "stream",
     "text": [
      "Number of Fraudulent Accounts: 101\n",
      "Percentage of Fraudulent Accounts: 0.05%\n"
     ]
    }
   ],
   "source": [
    "# Combine predictions from all models\n",
    "predictions = (lr_predictions + xgb_predictions + rf_predictions) / 3\n",
    "\n",
    "# Create DataFrame for test set with predictions\n",
    "test_df = df[df[\"month\"] >= 6].copy()\n",
    "test_df['predicted_fraud'] = predictions\n",
    "\n",
    "# Identify fraudulent accounts say,(threshold > 0.5)\n",
    "fraudulent_accounts = test_df[test_df['predicted_fraud'] > 0.687]['Account_Number']\n",
    "\n",
    "# Save fraudulent account numbers to a .txt file (overwrite mode)\n",
    "with open('/Users/gavesh_aggarwal/Desktop/Mule_Account_Detection/32 Column Dataset/archive/fraudulent_accounts.txt', 'w') as file:\n",
    "    fraudulent_accounts.to_csv(file, index=False, header=False)\n",
    "\n",
    "# Print number and percentage of fraudulent accounts\n",
    "num_fraud_accounts = len(fraudulent_accounts)\n",
    "total_accounts = len(test_df)\n",
    "percentage_fraudulent = (num_fraud_accounts / total_accounts) * 100\n",
    "\n",
    "print(\"Number of Fraudulent Accounts:\", num_fraud_accounts)\n",
    "print(\"Percentage of Fraudulent Accounts: {:.2f}%\".format(percentage_fraudulent))\n"
   ]
  },
  {
   "attachments": {},
   "cell_type": "markdown",
   "metadata": {},
   "source": [
    "<a id=\"3.3\"></a>\n",
    "## <b><span style='color:SteelBlue'>Loading the actual given fraudulent accounts</span></b> "
   ]
  },
  {
   "cell_type": "code",
   "execution_count": 27,
   "metadata": {},
   "outputs": [],
   "source": [
    "# Actual Fraud Accounts\n",
    "\n",
    "import pandas as pd\n",
    "\n",
    "# Load the CSV file\n",
    "df = pd.read_csv('/Users/gavesh_aggarwal/Desktop/Mule_Account_Detection/32 Column Dataset/archive/Base.csv')  # Update the path to your base.csv\n",
    "\n",
    "# Filter the rows where fraud_bool is 1\n",
    "fraud_accounts = df[df['fraud_bool'] == 1]\n",
    "\n",
    "# Get the unique account numbers with fraud_bool=1\n",
    "unique_fraud_accounts = fraud_accounts['Account_Number'].unique()\n",
    "\n",
    "# Define the output file path\n",
    "output_file_path = '/Users/gavesh_aggarwal/Desktop/Mule_Account_Detection/32 Column Dataset/archive/actual_fraudulent_accounts.txt'\n",
    "\n",
    "# Save the unique account numbers to the text file\n",
    "with open(output_file_path, 'w') as f:\n",
    "    for account_number in unique_fraud_accounts:\n",
    "        f.write(f\"{account_number}\\n\")"
   ]
  },
  {
   "attachments": {},
   "cell_type": "markdown",
   "metadata": {},
   "source": [
    "<a id=\"3.3\"></a>\n",
    "## <b><span style='color:SteelBlue'>Comparing my fraudulent accounts and actual fraudulent accounts.</span></b> "
   ]
  },
  {
   "cell_type": "code",
   "execution_count": 28,
   "metadata": {},
   "outputs": [
    {
     "data": {
      "text/plain": [
       "53.46534653465347"
      ]
     },
     "execution_count": 28,
     "metadata": {},
     "output_type": "execute_result"
    }
   ],
   "source": [
    "# PERCENTAGE ACCURACY IN MY MODEL\n",
    "\n",
    "# File paths\n",
    "file1_path = '/Users/gavesh_aggarwal/Desktop/Mule_Account_Detection/32 Column Dataset/archive/fraudulent_accounts.txt'\n",
    "file2_path = '/Users/gavesh_aggarwal/Desktop/Mule_Account_Detection/32 Column Dataset/archive/actual_fraudulent_accounts.txt'\n",
    "\n",
    "# Load numbers from both files\n",
    "with open(file1_path, 'r') as file1:\n",
    "    numbers1 = set(map(int, file1.readlines()))\n",
    "\n",
    "with open(file2_path, 'r') as file2:\n",
    "    numbers2 = set(map(int, file2.readlines()))\n",
    "\n",
    "# Find common numbers\n",
    "common_numbers = numbers1.intersection(numbers2)\n",
    "\n",
    "# Number of common numbers\n",
    "num_common = len(common_numbers)\n",
    "\n",
    "# Total numbers in fraudulent_accounts.txt\n",
    "total_numbers_in_file1 = len(numbers1)\n",
    "\n",
    "# Percentage of common numbers\n",
    "percentage_common = (num_common / total_numbers_in_file1) * 100\n",
    "\n",
    "percentage_common\n"
   ]
  }
 ],
 "metadata": {
  "kernelspec": {
   "display_name": "Python 3",
   "language": "python",
   "name": "python3"
  },
  "language_info": {
   "codemirror_mode": {
    "name": "ipython",
    "version": 3
   },
   "file_extension": ".py",
   "mimetype": "text/x-python",
   "name": "python",
   "nbconvert_exporter": "python",
   "pygments_lexer": "ipython3",
   "version": "3.11.4"
  },
  "orig_nbformat": 4
 },
 "nbformat": 4,
 "nbformat_minor": 2
}
